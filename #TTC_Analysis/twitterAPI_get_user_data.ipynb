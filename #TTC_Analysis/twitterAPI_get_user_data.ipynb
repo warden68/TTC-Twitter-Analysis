{
 "cells": [
  {
   "cell_type": "code",
   "execution_count": null,
   "metadata": {
    "scrolled": true
   },
   "outputs": [],
   "source": [
    "# Method to return the user's declared location on profile\n",
    "import tweepy\n",
    "import csv\n",
    "import pandas as pd\n",
    "\n",
    "# Input Twitter access information\n",
    "consumer_key = \"--\"\n",
    "consumer_secret = \"--\"\n",
    "access_token = \"--\"\n",
    "access_token_secret = \"--\"\n",
    "\n",
    "auth = tweepy.OAuthHandler(consumer_key, consumer_secret)\n",
    "auth.set_access_token(access_token, access_token_secret)\n",
    "api = tweepy.API(auth,wait_on_rate_limit=True, wait_on_rate_limit_notify=True)\n",
    "\n",
    "# Create a file to store the username and received data\n",
    "csvFile = open('result.csv', 'a')\n",
    "csvWriter = csv.writer(csvFile, delimiter=\";\")\n",
    "\n",
    "# Open the text file with all unique username from the Twitter data\n",
    "text_file = open(\"#TTC user list.csv\", \"r\")\n",
    "lines = text_file.read().split('\\n')\n",
    "text_file.close()\n",
    "\n",
    "# Use a loop to read through the end of file, and catch error\n",
    "try:\n",
    "\n",
    "    for x in lines: \n",
    "        print(x)\n",
    "        user = api.get_user(x) \n",
    "        csvWriter.writerow([x,user.location],delimiter)\n",
    "\n",
    "except:\n",
    "    print(\"Caught it!\")\n",
    "    csvFile.close()\n",
    "\n",
    "# Close the CSV file\n",
    "csvFile.close()"
   ]
  }
 ],
 "metadata": {
  "kernelspec": {
   "display_name": "Python 3",
   "language": "python",
   "name": "python3"
  },
  "language_info": {
   "codemirror_mode": {
    "name": "ipython",
    "version": 3
   },
   "file_extension": ".py",
   "mimetype": "text/x-python",
   "name": "python",
   "nbconvert_exporter": "python",
   "pygments_lexer": "ipython3",
   "version": "3.6.5"
  }
 },
 "nbformat": 4,
 "nbformat_minor": 2
}
